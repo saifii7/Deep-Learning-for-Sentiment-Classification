{
 "cells": [
  {
   "cell_type": "code",
   "execution_count": 1,
   "id": "248f995c",
   "metadata": {},
   "outputs": [],
   "source": [
    "import sys\n",
    "import time\n",
    "import numpy as np\n",
    "import pandas as pd\n",
    "from gensim.models import KeyedVectors\n",
    "from sklearn.metrics import accuracy_score\n",
    "from __future__ import division\n",
    "from collections import Counter\n",
    "from sklearn.svm import SVC\n",
    "from sklearn.preprocessing import StandardScaler"
   ]
  },
  {
   "cell_type": "code",
   "execution_count": 2,
   "id": "6aa25ca0",
   "metadata": {},
   "outputs": [],
   "source": [
    "wv = KeyedVectors.load('embs_train.kv')"
   ]
  },
  {
   "cell_type": "code",
   "execution_count": 3,
   "id": "61582081",
   "metadata": {},
   "outputs": [],
   "source": [
    "def sentence_embedding(sentence, word_counts):\n",
    "    tokens = sentence.split()\n",
    "    embeddings = []\n",
    "    for token in tokens:\n",
    "        if token in wv and word_counts[token] > 1:\n",
    "            embeddings.append(wv[token])\n",
    "    if len(embeddings) > 0:\n",
    "        return np.mean(embeddings, axis=0)\n",
    "    else:\n",
    "        return np.zeros(wv.vector_size)"
   ]
  },
  {
   "cell_type": "code",
   "execution_count": 4,
   "id": "326aa04a",
   "metadata": {},
   "outputs": [],
   "source": [
    "def read_from(dataframe):\n",
    "    for i, row in dataframe.iterrows():\n",
    "        label = 1 if row['Label'] == '+' else -1\n",
    "        yield (label, row['Review_Embedding'])"
   ]
  },
  {
   "cell_type": "code",
   "execution_count": 5,
   "id": "28a64c77",
   "metadata": {},
   "outputs": [],
   "source": [
    "def test(dev_data, model):\n",
    "    tot, err = 0, 0\n",
    "    for label, emb in read_from(dev_data):\n",
    "        err += label * (np.dot(model, emb)) <= 0\n",
    "    return err / len(dev_data)"
   ]
  },
  {
   "cell_type": "code",
   "execution_count": 6,
   "id": "c16346d6",
   "metadata": {},
   "outputs": [],
   "source": [
    "def train_with_svm(train_data, dev_data):\n",
    "    scaler = StandardScaler()  \n",
    "    X_train = np.array(train_data['Review_Embedding'].tolist())  \n",
    "    X_dev = np.array(dev_data['Review_Embedding'].tolist())\n",
    "\n",
    "    y_train = train_data['Label'].map({'+': 1, '-': -1})  \n",
    "    y_dev = dev_data['Label'].map({'+': 1, '-': -1})\n",
    "\n",
    "    \n",
    "    X_train = scaler.fit_transform(X_train)\n",
    "    X_dev = scaler.transform(X_dev)\n",
    "\n",
    "    best_dev_err = 1.0  \n",
    "    best_svm_model = None  \n",
    "\n",
    "    \n",
    "    c_values = [0.1]\n",
    "\n",
    "    for c in c_values:\n",
    "        start_time = time.time() \n",
    "        svm = SVC(kernel='linear', C=c, random_state=42)\n",
    "        svm.fit(X_train, y_train)\n",
    "        end_time = time.time()\n",
    "\n",
    "       \n",
    "        dev_err = 1 - svm.score(X_dev, y_dev)\n",
    "\n",
    "        print(f\"C = {c}, dev_err = {dev_err * 100:.2f}%, Time: {end_time - start_time:.2f} seconds\")\n",
    "\n",
    "       \n",
    "        if dev_err < best_dev_err:\n",
    "            best_dev_err = dev_err\n",
    "            best_svm_model = svm\n",
    "\n",
    "    print(f\"Best dev error rate: {best_dev_err * 100:.2f}%\")\n",
    "\n",
    "    return best_svm_model"
   ]
  },
  {
   "cell_type": "code",
   "execution_count": 7,
   "id": "3ace01cf",
   "metadata": {},
   "outputs": [
    {
     "name": "stdout",
     "output_type": "stream",
     "text": [
      "C = 0.1, dev_err = 23.40%, Time: 44.16 seconds\n",
      "Best dev error rate: 23.40%\n"
     ]
    }
   ],
   "source": [
    "if __name__ == \"__main__\":\n",
    "    train_data = pd.read_csv('C:/3rd term/ML/HW-4/hw4-data/train.txt', sep='\\t', header=None, names=['Label', 'Review'])\n",
    "    dev_data = pd.read_csv('C:/3rd term/ML/HW-4/hw4-data/dev.txt', sep='\\t', header=None, names=['Label', 'Review'])\n",
    "    \n",
    "    word_counts = Counter()\n",
    "    for review in train_data['Review']:\n",
    "        word_counts.update(review.split())\n",
    "        \n",
    "    \n",
    "    train_data['Review_Embedding'] = train_data['Review'].apply(lambda x: sentence_embedding(x, word_counts))\n",
    "    dev_data['Review_Embedding'] = dev_data['Review'].apply(lambda x: sentence_embedding(x, word_counts))\n",
    "\n",
    "    # Train with SVM\n",
    "    best_svm_model = train_with_svm(train_data, dev_data)"
   ]
  },
  {
   "cell_type": "code",
   "execution_count": null,
   "id": "fe295d70",
   "metadata": {},
   "outputs": [],
   "source": []
  }
 ],
 "metadata": {
  "kernelspec": {
   "display_name": "Python 3 (ipykernel)",
   "language": "python",
   "name": "python3"
  },
  "language_info": {
   "codemirror_mode": {
    "name": "ipython",
    "version": 3
   },
   "file_extension": ".py",
   "mimetype": "text/x-python",
   "name": "python",
   "nbconvert_exporter": "python",
   "pygments_lexer": "ipython3",
   "version": "3.9.13"
  }
 },
 "nbformat": 4,
 "nbformat_minor": 5
}
