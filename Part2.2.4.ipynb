{
 "cells": [
  {
   "cell_type": "code",
   "execution_count": 8,
   "id": "17aa2d74",
   "metadata": {},
   "outputs": [],
   "source": [
    "import sys\n",
    "import time\n",
    "import numpy as np\n",
    "import pandas as pd\n",
    "from gensim.models import KeyedVectors\n",
    "from sklearn.metrics import accuracy_score\n",
    "from __future__ import division\n",
    "from collections import Counter"
   ]
  },
  {
   "cell_type": "code",
   "execution_count": 9,
   "id": "705156e2",
   "metadata": {},
   "outputs": [],
   "source": [
    "wv = KeyedVectors.load('embs_train.kv')"
   ]
  },
  {
   "cell_type": "code",
   "execution_count": 10,
   "id": "3712c623",
   "metadata": {},
   "outputs": [],
   "source": [
    "def sentence_embedding(sentence, word_counts):\n",
    "    tokens = sentence.split()\n",
    "    embeddings = []\n",
    "    for token in tokens:\n",
    "        if token in wv and word_counts[token] > 1:\n",
    "            embeddings.append(wv[token])\n",
    "    if len(embeddings) > 0:\n",
    "        return np.mean(embeddings, axis=0)\n",
    "    else:\n",
    "        return np.zeros(wv.vector_size)"
   ]
  },
  {
   "cell_type": "code",
   "execution_count": 11,
   "id": "a784f6f4",
   "metadata": {},
   "outputs": [],
   "source": [
    "def read_from(dataframe):\n",
    "    for i, row in dataframe.iterrows():\n",
    "        label = 1 if row['Label'] == '+' else -1\n",
    "        yield (label, row['Review_Embedding'])"
   ]
  },
  {
   "cell_type": "code",
   "execution_count": 12,
   "id": "f3f98219",
   "metadata": {},
   "outputs": [],
   "source": [
    "def test(dev_data, model):\n",
    "    tot, err = 0, 0\n",
    "    for label, emb in read_from(dev_data):\n",
    "        err += label * (np.dot(model, emb)) <= 0\n",
    "    return err / len(dev_data)"
   ]
  },
  {
   "cell_type": "code",
   "execution_count": 13,
   "id": "4dedb716",
   "metadata": {},
   "outputs": [],
   "source": [
    "def averaged_perceptron(train_data, dev_data, epochs=10):\n",
    "    t = time.time()\n",
    "    best_err = 1.\n",
    "    avg_model = np.zeros(train_data['Review_Embedding'].iloc[0].shape)  \n",
    "    model = np.zeros(train_data['Review_Embedding'].iloc[0].shape) \n",
    "\n",
    "    \n",
    "    word_counts = Counter()\n",
    "    for review in train_data['Review']:\n",
    "        word_counts.update(review.split())\n",
    "\n",
    "    for it in range(1, epochs + 1):\n",
    "        updates = 0\n",
    "        for label, emb in read_from(train_data):\n",
    "            if label * (np.dot(model, emb)) <= 0:\n",
    "                updates += 1\n",
    "                model += label * emb\n",
    "            avg_model += model\n",
    "\n",
    "        dev_err = test(dev_data, avg_model)\n",
    "        best_err = min(best_err, dev_err)\n",
    "        print(\"epoch %d, update %.1f%%, dev %.1f%%\" % (it, updates / len(train_data) * 100, dev_err * 100))\n",
    "    \n",
    "    avg_model /= (epochs * len(train_data))  \n",
    "    print(\"best dev err %.1f%%, time: %.1f secs\" % (best_err * 100, time.time() - t))\n"
   ]
  },
  {
   "cell_type": "code",
   "execution_count": 14,
   "id": "ed72e3eb",
   "metadata": {},
   "outputs": [
    {
     "name": "stdout",
     "output_type": "stream",
     "text": [
      "epoch 1, update 32.0%, dev 25.0%\n",
      "epoch 2, update 30.4%, dev 25.1%\n",
      "epoch 3, update 30.3%, dev 24.4%\n",
      "epoch 4, update 29.9%, dev 24.2%\n",
      "epoch 5, update 30.4%, dev 24.2%\n",
      "epoch 6, update 30.7%, dev 24.5%\n",
      "epoch 7, update 30.4%, dev 24.3%\n",
      "epoch 8, update 30.1%, dev 24.5%\n",
      "epoch 9, update 29.9%, dev 24.7%\n",
      "epoch 10, update 30.2%, dev 24.7%\n",
      "best dev err 24.2%, time: 5.0 secs\n"
     ]
    }
   ],
   "source": [
    "if __name__ == \"__main__\":\n",
    "    train_data = pd.read_csv('C:/3rd term/ML/HW-4/hw4-data/train.txt', sep='\\t', header=None, names=['Label', 'Review'])\n",
    "    dev_data = pd.read_csv('C:/3rd term/ML/HW-4/hw4-data/dev.txt', sep='\\t', header=None, names=['Label', 'Review'])\n",
    "    \n",
    "    \n",
    "    word_counts = Counter()\n",
    "    for review in train_data['Review']:\n",
    "        word_counts.update(review.split())\n",
    "\n",
    "    \n",
    "    train_data['Review_Embedding'] = train_data['Review'].apply(lambda x: sentence_embedding(x, word_counts))\n",
    "    dev_data['Review_Embedding'] = dev_data['Review'].apply(lambda x: sentence_embedding(x, word_counts))\n",
    "    \n",
    "    averaged_perceptron(train_data, dev_data, epochs=10)"
   ]
  },
  {
   "cell_type": "code",
   "execution_count": null,
   "id": "34a95645",
   "metadata": {},
   "outputs": [],
   "source": []
  }
 ],
 "metadata": {
  "kernelspec": {
   "display_name": "Python 3 (ipykernel)",
   "language": "python",
   "name": "python3"
  },
  "language_info": {
   "codemirror_mode": {
    "name": "ipython",
    "version": 3
   },
   "file_extension": ".py",
   "mimetype": "text/x-python",
   "name": "python",
   "nbconvert_exporter": "python",
   "pygments_lexer": "ipython3",
   "version": "3.9.13"
  }
 },
 "nbformat": 4,
 "nbformat_minor": 5
}
