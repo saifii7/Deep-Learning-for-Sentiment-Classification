{
 "cells": [
  {
   "cell_type": "code",
   "execution_count": 1,
   "id": "fa28a2aa",
   "metadata": {},
   "outputs": [],
   "source": [
    "import sys\n",
    "import time\n",
    "import numpy as np\n",
    "import pandas as pd\n",
    "from gensim.models import KeyedVectors\n",
    "from sklearn.metrics import accuracy_score\n",
    "from collections import Counter\n",
    "from sklearn.svm import SVC\n",
    "from sklearn.preprocessing import StandardScaler"
   ]
  },
  {
   "cell_type": "code",
   "execution_count": 2,
   "id": "244518e1",
   "metadata": {},
   "outputs": [],
   "source": [
    "wv = KeyedVectors.load('embs_train.kv')"
   ]
  },
  {
   "cell_type": "code",
   "execution_count": 3,
   "id": "3b7789bb",
   "metadata": {},
   "outputs": [],
   "source": [
    "def sentence_embedding(sentence, word_counts):\n",
    "    tokens = sentence.split()\n",
    "    embeddings = []\n",
    "    for token in tokens:\n",
    "        if token in wv and word_counts[token] > 1:\n",
    "            embeddings.append(wv[token])\n",
    "    if len(embeddings) > 0:\n",
    "        return np.mean(embeddings, axis=0)\n",
    "    else:\n",
    "        return np.zeros(wv.vector_size)"
   ]
  },
  {
   "cell_type": "code",
   "execution_count": 4,
   "id": "338b11ca",
   "metadata": {},
   "outputs": [],
   "source": [
    "def replace_question_mark(predictions, testfile):\n",
    "    with open(testfile, 'r') as file:\n",
    "        lines = file.readlines()\n",
    "\n",
    "    with open(\"test.txt.predicted\", 'w') as file:\n",
    "        for i, line in enumerate(lines):\n",
    "            if line.startswith('?'):\n",
    "                sign = '+' if predictions[i] == 1 else '-'\n",
    "                line = f\"{sign}{line[1:]}\"\n",
    "            file.write(line)"
   ]
  },
  {
   "cell_type": "code",
   "execution_count": 5,
   "id": "7c58b3e1",
   "metadata": {},
   "outputs": [],
   "source": [
    "def train_with_svm(train_data, test_data):\n",
    "    word_counts = Counter()\n",
    "    for review in train_data['Review']:\n",
    "        word_counts.update(review.split())\n",
    "        \n",
    "    train_data['Review_Embedding'] = train_data['Review'].apply(lambda x: sentence_embedding(x, word_counts))\n",
    "    test_data['Review_Embedding'] = test_data['Review'].apply(lambda x: sentence_embedding(x, word_counts))\n",
    "\n",
    "    X_train = np.array(train_data['Review_Embedding'].tolist())\n",
    "    X_test = np.array(test_data['Review_Embedding'].tolist())\n",
    "\n",
    "    X_train = StandardScaler().fit_transform(X_train)\n",
    "    X_test = StandardScaler().fit_transform(X_test)\n",
    "\n",
    "    y_train = train_data['Label'].map({'+': 1, '-': -1})\n",
    "\n",
    "    best_svm_model = None  \n",
    "    \n",
    "    c_value = 0.1  \n",
    "\n",
    "    start_time = time.time() \n",
    "    svm = SVC(kernel='linear', C=c_value, random_state=42)\n",
    "    svm.fit(X_train, y_train)\n",
    "    end_time = time.time()\n",
    "\n",
    "    print(f\"Training Time: {end_time - start_time:.2f} seconds\")\n",
    "\n",
    "    predictions = svm.predict(X_test)\n",
    "    replace_question_mark(predictions,'C:/3rd term/ML/HW-4/hw4-data/test.txt')\n",
    "\n",
    "    return svm"
   ]
  },
  {
   "cell_type": "code",
   "execution_count": 6,
   "id": "f3cc28b4",
   "metadata": {},
   "outputs": [
    {
     "name": "stdout",
     "output_type": "stream",
     "text": [
      "Training Time: 36.44 seconds\n"
     ]
    }
   ],
   "source": [
    "if __name__ == \"__main__\":\n",
    "    train_data = pd.read_csv('C:/3rd term/ML/HW-4/hw4-data/train.txt', sep='\\t', header=None, names=['Label', 'Review'])\n",
    "    test_data = pd.read_csv('C:/3rd term/ML/HW-4/hw4-data/test.txt', sep='\\t', header=None, names=['Label', 'Review'])\n",
    "\n",
    "   \n",
    "    best_svm_model = train_with_svm(train_data, test_data)"
   ]
  },
  {
   "cell_type": "code",
   "execution_count": null,
   "id": "0260b4b9",
   "metadata": {},
   "outputs": [],
   "source": []
  }
 ],
 "metadata": {
  "kernelspec": {
   "display_name": "Python 3 (ipykernel)",
   "language": "python",
   "name": "python3"
  },
  "language_info": {
   "codemirror_mode": {
    "name": "ipython",
    "version": 3
   },
   "file_extension": ".py",
   "mimetype": "text/x-python",
   "name": "python",
   "nbconvert_exporter": "python",
   "pygments_lexer": "ipython3",
   "version": "3.9.13"
  }
 },
 "nbformat": 4,
 "nbformat_minor": 5
}
