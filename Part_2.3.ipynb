{
 "cells": [
  {
   "cell_type": "code",
   "execution_count": 1,
   "id": "43de9587",
   "metadata": {},
   "outputs": [],
   "source": [
    "import numpy as np\n",
    "import pandas as pd\n",
    "from gensim.models import KeyedVectors\n",
    "from sklearn.neighbors import KNeighborsClassifier \n",
    "from sklearn.metrics import accuracy_score\n",
    "import warnings\n",
    "warnings.filterwarnings('ignore')"
   ]
  },
  {
   "cell_type": "code",
   "execution_count": 2,
   "id": "64db6848",
   "metadata": {},
   "outputs": [],
   "source": [
    "wv = KeyedVectors.load('embs_train.kv')"
   ]
  },
  {
   "cell_type": "code",
   "execution_count": 3,
   "id": "759c92d2",
   "metadata": {},
   "outputs": [],
   "source": [
    "def sentence_embedding(sentence):\n",
    "    tokens = sentence.split()\n",
    "    embeddings = []\n",
    "    for token in tokens:\n",
    "        if token in wv:\n",
    "            embeddings.append(wv[token])\n",
    "    if len(embeddings) > 0:\n",
    "        return np.mean(embeddings, axis=0)\n",
    "    else:\n",
    "        return np.zeros(wv.vector_size)"
   ]
  },
  {
   "cell_type": "code",
   "execution_count": 4,
   "id": "5288f2dc",
   "metadata": {},
   "outputs": [],
   "source": [
    "train_data = pd.read_csv('C:/3rd term/ML/HW-4/hw4-data/train.txt', sep='\\t', header=None, names=['Label', 'Review'])"
   ]
  },
  {
   "cell_type": "code",
   "execution_count": 5,
   "id": "720a3dba",
   "metadata": {},
   "outputs": [],
   "source": [
    "t_labels = train_data['Label']\n",
    "t_reviews = train_data['Review']"
   ]
  },
  {
   "cell_type": "code",
   "execution_count": 6,
   "id": "ea80896a",
   "metadata": {},
   "outputs": [],
   "source": [
    "dev_data = pd.read_csv('C:/3rd term/ML/HW-4/hw4-data/dev.txt', sep='\\t', header=None, names=['Label', 'Review'])"
   ]
  },
  {
   "cell_type": "code",
   "execution_count": 7,
   "id": "3ff1ab94",
   "metadata": {},
   "outputs": [],
   "source": [
    "d_labels = dev_data['Label']\n",
    "d_reviews = dev_data['Review']"
   ]
  },
  {
   "cell_type": "code",
   "execution_count": 8,
   "id": "68873fee",
   "metadata": {},
   "outputs": [],
   "source": [
    "train_data['Review_Embedding'] = train_data['Review'].apply(sentence_embedding)"
   ]
  },
  {
   "cell_type": "code",
   "execution_count": 9,
   "id": "1c8ca85b",
   "metadata": {},
   "outputs": [],
   "source": [
    "dev_data['Review_Embedding'] = dev_data['Review'].apply(sentence_embedding)"
   ]
  },
  {
   "cell_type": "code",
   "execution_count": 10,
   "id": "a97520a8",
   "metadata": {},
   "outputs": [],
   "source": [
    "# Train_data\n",
    "X_train= np.array(train_data['Review_Embedding'].tolist()) \n",
    "y_train= t_labels\n",
    "\n",
    "# Dev_data\n",
    "X_dev = np.array(dev_data['Review_Embedding'].tolist()) \n",
    "y_dev = d_labels"
   ]
  },
  {
   "cell_type": "code",
   "execution_count": 11,
   "id": "298a5368",
   "metadata": {},
   "outputs": [
    {
     "data": {
      "text/plain": [
       "array([[ 0.05907059,  0.02408767,  0.06077862, ..., -0.03531456,\n",
       "        -0.01322937,  0.01422286],\n",
       "       [ 0.09074096,  0.03865204, -0.00953369, ..., -0.07499237,\n",
       "         0.02995949,  0.06032104],\n",
       "       [ 0.03828532,  0.02716268, -0.01663818, ..., -0.06240235,\n",
       "         0.03616943,  0.02958577],\n",
       "       ...,\n",
       "       [ 0.02303113,  0.03926809,  0.08206659, ...,  0.00158852,\n",
       "         0.01334421, -0.02645151],\n",
       "       [ 0.05704674,  0.03712918,  0.04071514, ..., -0.04171049,\n",
       "         0.00808481,  0.1348877 ],\n",
       "       [ 0.06757812,  0.03029874,  0.07386068, ..., -0.01592611,\n",
       "        -0.01123645, -0.04077962]], dtype=float32)"
      ]
     },
     "execution_count": 11,
     "metadata": {},
     "output_type": "execute_result"
    }
   ],
   "source": [
    "X_train"
   ]
  },
  {
   "cell_type": "code",
   "execution_count": 12,
   "id": "e67f1860",
   "metadata": {},
   "outputs": [
    {
     "name": "stdout",
     "output_type": "stream",
     "text": [
      "k = 1\tdev_err = 37.00\n",
      "k = 3\tdev_err = 34.80\n",
      "k = 5\tdev_err = 34.50\n",
      "k = 7\tdev_err = 33.80\n",
      "k = 9\tdev_err = 31.90\n",
      "k = 11\tdev_err = 30.70\n",
      "k = 13\tdev_err = 31.30\n",
      "k = 15\tdev_err = 30.20\n",
      "k = 17\tdev_err = 31.30\n",
      "k = 19\tdev_err = 30.90\n",
      "k = 21\tdev_err = 30.90\n",
      "k = 23\tdev_err = 31.20\n",
      "k = 25\tdev_err = 30.20\n",
      "k = 27\tdev_err = 30.40\n",
      "k = 29\tdev_err = 29.30\n",
      "k = 31\tdev_err = 29.60\n",
      "k = 33\tdev_err = 30.50\n",
      "k = 35\tdev_err = 29.70\n",
      "k = 37\tdev_err = 30.00\n",
      "k = 39\tdev_err = 30.00\n",
      "k = 41\tdev_err = 30.40\n",
      "k = 43\tdev_err = 29.70\n",
      "k = 45\tdev_err = 29.30\n",
      "k = 47\tdev_err = 29.30\n",
      "k = 49\tdev_err = 29.10\n",
      "k = 51\tdev_err = 28.90\n",
      "k = 53\tdev_err = 29.10\n",
      "k = 55\tdev_err = 29.20\n",
      "k = 57\tdev_err = 29.30\n",
      "k = 59\tdev_err = 29.70\n",
      "k = 61\tdev_err = 28.50\n",
      "k = 63\tdev_err = 28.30\n",
      "k = 65\tdev_err = 28.30\n",
      "k = 67\tdev_err = 28.00\n",
      "k = 69\tdev_err = 28.60\n",
      "k = 71\tdev_err = 28.90\n",
      "k = 73\tdev_err = 27.80\n",
      "k = 75\tdev_err = 28.90\n",
      "k = 77\tdev_err = 28.70\n",
      "k = 79\tdev_err = 28.70\n",
      "k = 81\tdev_err = 29.00\n",
      "k = 83\tdev_err = 28.60\n",
      "k = 85\tdev_err = 28.90\n",
      "k = 87\tdev_err = 28.10\n",
      "k = 89\tdev_err = 28.40\n",
      "k = 91\tdev_err = 28.80\n",
      "k = 93\tdev_err = 29.20\n",
      "k = 95\tdev_err = 29.10\n",
      "k = 97\tdev_err = 29.40\n",
      "k = 99\tdev_err = 28.70\n"
     ]
    }
   ],
   "source": [
    "k_values = list(range(1, 101, 2))  \n",
    "\n",
    "\n",
    "error_rates = []\n",
    "predicted_positive_rates = []\n",
    "\n",
    "\n",
    "for k in k_values:  \n",
    "    \n",
    "    knn = KNeighborsClassifier(n_neighbors=k)\n",
    "    knn.fit(X_train,y_train)\n",
    "   \n",
    "    y_train_pred = knn.predict(X_train)\n",
    "    y_dev_pred = knn.predict(X_dev)\n",
    "    train_error_rate = 1 - accuracy_score(y_train, y_train_pred)\n",
    "    dev_error_rate =  1 - accuracy_score(y_dev, y_dev_pred)\n",
    "    \n",
    "    y_train_pred = list(y_train_pred)\n",
    "    y_dev_pred = list(y_dev_pred)\n",
    "    \n",
    "    print(f\"k = {k}\",end='\\t')\n",
    "    print(f\"dev_err = {dev_error_rate*100:.2f}\")"
   ]
  },
  {
   "cell_type": "code",
   "execution_count": null,
   "id": "fafe94c9",
   "metadata": {},
   "outputs": [],
   "source": []
  },
  {
   "cell_type": "code",
   "execution_count": null,
   "id": "e0666971",
   "metadata": {},
   "outputs": [],
   "source": []
  }
 ],
 "metadata": {
  "kernelspec": {
   "display_name": "Python 3 (ipykernel)",
   "language": "python",
   "name": "python3"
  },
  "language_info": {
   "codemirror_mode": {
    "name": "ipython",
    "version": 3
   },
   "file_extension": ".py",
   "mimetype": "text/x-python",
   "name": "python",
   "nbconvert_exporter": "python",
   "pygments_lexer": "ipython3",
   "version": "3.9.13"
  }
 },
 "nbformat": 4,
 "nbformat_minor": 5
}
