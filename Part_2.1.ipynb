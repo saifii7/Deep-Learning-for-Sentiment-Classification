{
 "cells": [
  {
   "cell_type": "code",
   "execution_count": 9,
   "id": "6c4670a6",
   "metadata": {},
   "outputs": [],
   "source": [
    "import numpy as np\n",
    "from gensim.models import KeyedVectors"
   ]
  },
  {
   "cell_type": "code",
   "execution_count": 13,
   "id": "6bf58812",
   "metadata": {},
   "outputs": [],
   "source": [
    "wv = KeyedVectors.load('embs_train.kv')"
   ]
  },
  {
   "cell_type": "code",
   "execution_count": 16,
   "id": "bff23a0a",
   "metadata": {},
   "outputs": [],
   "source": [
    "def sentence_embedding(sentence):\n",
    "    tokens = sentence.split()\n",
    "    embeddings = []\n",
    "    for token in tokens:\n",
    "        if token in wv:\n",
    "            embeddings.append(wv[token])\n",
    "    if len(embeddings) > 0:\n",
    "        return np.mean(embeddings, axis=0)\n",
    "    else:\n",
    "        return np.zeros(wv.vector_size)"
   ]
  },
  {
   "cell_type": "code",
   "execution_count": 18,
   "id": "d8016ff2",
   "metadata": {},
   "outputs": [],
   "source": [
    "with open('train.txt', 'r') as f:\n",
    "    training_data = f.readlines()"
   ]
  },
  {
   "cell_type": "code",
   "execution_count": 19,
   "id": "697ce93d",
   "metadata": {},
   "outputs": [
    {
     "name": "stdout",
     "output_type": "stream",
     "text": [
      "-\ta semi autobiographical film that 's so sloppily written and cast that you can not believe anyone more central to the creation of bugsy than the caterer had anything to do with it\n",
      "\n",
      "0.6449662\n"
     ]
    }
   ],
   "source": [
    "sentence1 = training_data[0]\n",
    "sentence1_embedding = sentence_embedding(sentence1)\n",
    "\n",
    "closest_sentence = None\n",
    "closest_distance = float('inf')\n",
    "for sentence2 in training_data:\n",
    "    if sentence2 != sentence1:\n",
    "        sentence2_embedding = sentence_embedding(sentence2)\n",
    "        if sentence2_embedding is not None:\n",
    "            distance = np.linalg.norm(sentence1_embedding - sentence2_embedding)\n",
    "            if distance < closest_distance:\n",
    "                closest_distance = distance\n",
    "                closest_sentence = sentence2\n",
    "\n",
    "\n",
    "print(closest_sentence)\n",
    "print(closest_distance)"
   ]
  },
  {
   "cell_type": "code",
   "execution_count": 21,
   "id": "4fb59c18",
   "metadata": {},
   "outputs": [
    {
     "data": {
      "text/plain": [
       "\"+\\tit 's a tour de force , written and directed so quietly that it 's implosion rather than explosion you fear\\n\""
      ]
     },
     "execution_count": 21,
     "metadata": {},
     "output_type": "execute_result"
    }
   ],
   "source": [
    "sentence1"
   ]
  },
  {
   "cell_type": "code",
   "execution_count": 22,
   "id": "36220e2b",
   "metadata": {},
   "outputs": [],
   "source": [
    "\n",
    "sentence1 = training_data[1]\n",
    "sentence1_embedding = sentence_embedding(sentence1)\n",
    "\n",
    "\n",
    "closest_sentence = None\n",
    "closest_distance = float('inf')\n",
    "for sentence2 in training_data:\n",
    "    if sentence2 != sentence1:\n",
    "        sentence2_embedding = sentence_embedding(sentence2)\n",
    "        if sentence2_embedding is not None:\n",
    "            distance = np.linalg.norm(sentence1_embedding - sentence2_embedding)\n",
    "            if distance < closest_distance:\n",
    "                closest_distance = distance\n",
    "                closest_sentence = sentence2"
   ]
  },
  {
   "cell_type": "code",
   "execution_count": 23,
   "id": "2d01765f",
   "metadata": {},
   "outputs": [
    {
     "data": {
      "text/plain": [
       "'-\\tplaces a slightly believable love triangle in a difficult to swallow setting , and then disappointingly moves the story into the realm of an improbable thriller\\n'"
      ]
     },
     "execution_count": 23,
     "metadata": {},
     "output_type": "execute_result"
    }
   ],
   "source": [
    "sentence1"
   ]
  },
  {
   "cell_type": "code",
   "execution_count": 24,
   "id": "990b8aa4",
   "metadata": {},
   "outputs": [
    {
     "name": "stdout",
     "output_type": "stream",
     "text": [
      "-\tthe plan to make enough into an inspiring tale of survival wrapped in the heart pounding suspense of a stylish psychological thriller ' has flopped as surely as a souffl gone wrong\n",
      "\n",
      "0.60505646\n"
     ]
    }
   ],
   "source": [
    "\n",
    "print(closest_sentence)\n",
    "print(closest_distance)"
   ]
  },
  {
   "cell_type": "code",
   "execution_count": null,
   "id": "5a652aec",
   "metadata": {},
   "outputs": [],
   "source": []
  }
 ],
 "metadata": {
  "kernelspec": {
   "display_name": "Python 3 (ipykernel)",
   "language": "python",
   "name": "python3"
  },
  "language_info": {
   "codemirror_mode": {
    "name": "ipython",
    "version": 3
   },
   "file_extension": ".py",
   "mimetype": "text/x-python",
   "name": "python",
   "nbconvert_exporter": "python",
   "pygments_lexer": "ipython3",
   "version": "3.9.13"
  }
 },
 "nbformat": 4,
 "nbformat_minor": 5
}
