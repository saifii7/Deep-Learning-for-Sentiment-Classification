{
 "cells": [
  {
   "cell_type": "code",
   "execution_count": 17,
   "id": "216b52e7",
   "metadata": {},
   "outputs": [],
   "source": [
    "import sys\n",
    "import time\n",
    "import numpy as np\n",
    "import pandas as pd\n",
    "from gensim.models import KeyedVectors\n",
    "from sklearn.metrics import accuracy_score\n",
    "from __future__ import division"
   ]
  },
  {
   "cell_type": "code",
   "execution_count": 18,
   "id": "33c231e5",
   "metadata": {},
   "outputs": [],
   "source": [
    "wv = KeyedVectors.load('embs_train.kv')"
   ]
  },
  {
   "cell_type": "code",
   "execution_count": 19,
   "id": "665d31e4",
   "metadata": {},
   "outputs": [],
   "source": [
    "def sentence_embedding(sentence):\n",
    "    tokens = sentence.split()\n",
    "    embeddings = []\n",
    "    for token in tokens:\n",
    "        if token in wv:\n",
    "            embeddings.append(wv[token])\n",
    "    if len(embeddings) > 0:\n",
    "        return np.mean(embeddings, axis=0)\n",
    "    else:\n",
    "        return np.zeros(wv.vector_size)"
   ]
  },
  {
   "cell_type": "code",
   "execution_count": 20,
   "id": "88f4aafb",
   "metadata": {},
   "outputs": [],
   "source": [
    "def read_from(dataframe):\n",
    "    for i, row in dataframe.iterrows():\n",
    "        label = 1 if row['Label'] == '+' else -1\n",
    "        yield (label, row['Review_Embedding'])"
   ]
  },
  {
   "cell_type": "code",
   "execution_count": 21,
   "id": "637a601c",
   "metadata": {},
   "outputs": [],
   "source": [
    "def test(dev_data, model):\n",
    "    tot, err = 0, 0\n",
    "    for label, emb in read_from(dev_data):\n",
    "        err += label * (np.dot(model, emb)) <= 0\n",
    "    return err / len(dev_data)"
   ]
  },
  {
   "cell_type": "code",
   "execution_count": 22,
   "id": "376db69a",
   "metadata": {},
   "outputs": [],
   "source": [
    "def train(train_data, dev_data, epochs=10):\n",
    "    t = time.time()\n",
    "    best_err = 1.\n",
    "    model = np.zeros(train_data['Review_Embedding'].iloc[0].shape)  \n",
    "    for it in range(1, epochs + 1):\n",
    "        updates = 0\n",
    "        for label, emb in read_from(train_data):\n",
    "            if label * (np.dot(model, emb)) <= 0:\n",
    "                updates += 1\n",
    "                model += label * emb\n",
    "        dev_err = test(dev_data, model)\n",
    "        best_err = min(best_err, dev_err)\n",
    "        print(\"epoch %d, update %.1f%%, dev %.1f%%\" % (it, updates / len(train_data) * 100, dev_err * 100))\n",
    "    print(\"best dev err %.1f%%, time: %.1f secs\" % (best_err * 100, time.time() - t))"
   ]
  },
  {
   "cell_type": "code",
   "execution_count": 23,
   "id": "f90d6b7c",
   "metadata": {},
   "outputs": [
    {
     "name": "stdout",
     "output_type": "stream",
     "text": [
      "epoch 1, update 31.1%, dev 37.4%\n",
      "epoch 2, update 29.5%, dev 35.4%\n",
      "epoch 3, update 29.8%, dev 33.2%\n",
      "epoch 4, update 29.1%, dev 40.0%\n",
      "epoch 5, update 29.7%, dev 35.2%\n",
      "epoch 6, update 29.4%, dev 40.4%\n",
      "epoch 7, update 29.4%, dev 38.4%\n",
      "epoch 8, update 29.4%, dev 42.5%\n",
      "epoch 9, update 29.1%, dev 39.0%\n",
      "epoch 10, update 29.1%, dev 39.2%\n",
      "best dev err 33.2%, time: 12.2 secs\n"
     ]
    }
   ],
   "source": [
    "if __name__ == \"__main__\":\n",
    "    train_data = pd.read_csv('C:/3rd term/ML/HW-4/hw4-data/train.txt', sep='\\t', header=None, names=['Label', 'Review'])\n",
    "    dev_data = pd.read_csv('C:/3rd term/ML/HW-4/hw4-data/dev.txt', sep='\\t', header=None, names=['Label', 'Review'])\n",
    "    \n",
    "    \n",
    "    train_data['Review_Embedding'] = train_data['Review'].apply(sentence_embedding)\n",
    "    dev_data['Review_Embedding'] = dev_data['Review'].apply(sentence_embedding)\n",
    "    \n",
    "    train(train_data, dev_data, epochs=10)"
   ]
  },
  {
   "cell_type": "code",
   "execution_count": null,
   "id": "fbdbbf44",
   "metadata": {},
   "outputs": [],
   "source": []
  }
 ],
 "metadata": {
  "kernelspec": {
   "display_name": "Python 3 (ipykernel)",
   "language": "python",
   "name": "python3"
  },
  "language_info": {
   "codemirror_mode": {
    "name": "ipython",
    "version": 3
   },
   "file_extension": ".py",
   "mimetype": "text/x-python",
   "name": "python",
   "nbconvert_exporter": "python",
   "pygments_lexer": "ipython3",
   "version": "3.9.13"
  }
 },
 "nbformat": 4,
 "nbformat_minor": 5
}
